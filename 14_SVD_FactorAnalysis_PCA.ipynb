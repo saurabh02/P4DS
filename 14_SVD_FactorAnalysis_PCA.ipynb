{
 "cells": [
  {
   "cell_type": "markdown",
   "metadata": {},
   "source": [
    "# Reducing Dimensionality"
   ]
  },
  {
   "cell_type": "markdown",
   "metadata": {},
   "source": [
    "## Understanding SVD"
   ]
  },
  {
   "cell_type": "markdown",
   "metadata": {},
   "source": [
    "In exploring various possible transformations, using a for loop may tell you\n",
    "that a power transformation will increase the correlation between the two\n",
    "variables, thus increasing the performance of a linear machine‐learning algorithm.\n",
    "You may also try other, further transformations such as square root\n",
    "np.sqrt(x), exponential np.exp(x), and various combinations of all the\n",
    "transformations, such as log inverse np.log(1/x)."
   ]
  },
  {
   "cell_type": "markdown",
   "metadata": {},
   "source": [
    "### Considering the problem of dimensionality reduction"
   ]
  },
  {
   "cell_type": "markdown",
   "metadata": {},
   "source": [
    "### Using SVD to measure the invisible"
   ]
  },
  {
   "cell_type": "code",
   "execution_count": 1,
   "metadata": {
    "collapsed": false
   },
   "outputs": [
    {
     "name": "stdout",
     "output_type": "stream",
     "text": [
      "[[1 3 4]\n",
      " [2 3 5]\n",
      " [1 2 3]\n",
      " [5 4 6]]\n"
     ]
    }
   ],
   "source": [
    "import numpy as np\n",
    "A = np.array([[1, 3, 4], [2, 3, 5], [1, 2, 3], [5, 4, 6]])\n",
    "print(A)"
   ]
  },
  {
   "cell_type": "markdown",
   "metadata": {},
   "source": [
    "✓✓U: Contains all the information about the rows (your observations)\n",
    "✓✓Vh: Contains all the information about the columns (your features)\n",
    "✓✓s: Records the SVD process (it is kind of a log record)"
   ]
  },
  {
   "cell_type": "code",
   "execution_count": 2,
   "metadata": {
    "collapsed": false
   },
   "outputs": [
    {
     "name": "stdout",
     "output_type": "stream",
     "text": [
      "(4, 3) (3,) (3, 3)\n",
      "[[-0.40292616 -0.5847182  -0.63627513]\n",
      " [-0.49916963 -0.31525396  0.74868921]\n",
      " [-0.3006986  -0.29999072  0.03747136]\n",
      " [-0.70573404  0.68463504 -0.18224798]]\n",
      "[ 12.26362747   2.11085464   0.38436189]\n",
      "[[-0.42651607 -0.49990272 -0.75377802]\n",
      " [ 0.90387955 -0.26593862 -0.3350797 ]\n",
      " [-0.03295143 -0.82424142  0.56527895]]\n"
     ]
    }
   ],
   "source": [
    "U, s, Vh = np.linalg.svd(A, full_matrices=False)\n",
    "print np.shape(U), np.shape(s),np.shape(Vh)\n",
    "print U\n",
    "print s\n",
    "print Vh"
   ]
  },
  {
   "cell_type": "markdown",
   "metadata": {},
   "source": [
    "The matrix U, representing the rows, has four row values. The matrix Vh is a\n",
    "square matrix, and its three rows represent the original columns. The matrix\n",
    "s is a diagonal matrix. A diagonal matrix contains zeros in every element but\n",
    "its diagonal. The length of its diagonal is exactly that of the three original\n",
    "columns.\n",
    "Inside s, you find that most of the values are in the first elements,\n",
    "indicating that the first column is what holds the most information (more\n",
    "than 80 percent), the second has some values (about 14 percent), and the\n",
    "third contains the residual values."
   ]
  },
  {
   "cell_type": "code",
   "execution_count": 3,
   "metadata": {
    "collapsed": false
   },
   "outputs": [
    {
     "name": "stdout",
     "output_type": "stream",
     "text": [
      "[[ 1.  3.  4.]\n",
      " [ 2.  3.  5.]\n",
      " [ 1.  2.  3.]\n",
      " [ 5.  4.  6.]]\n"
     ]
    }
   ],
   "source": [
    "print np.dot(np.dot(U, np.diag(s)), Vh) # Full matrix reconstruction"
   ]
  },
  {
   "cell_type": "markdown",
   "metadata": {},
   "source": [
    "For example, you might want to see what happens when you exclude the\n",
    "third column, the less important of the three. The following example shows\n",
    "what happens when you cut the last column from all three matrices."
   ]
  },
  {
   "cell_type": "code",
   "execution_count": 4,
   "metadata": {
    "collapsed": false
   },
   "outputs": [
    {
     "name": "stdout",
     "output_type": "stream",
     "text": [
      "[[ 1.   2.8  4.1]\n",
      " [ 2.   3.2  4.8]\n",
      " [ 1.   2.   3. ]\n",
      " [ 5.   3.9  6. ]]\n"
     ]
    }
   ],
   "source": [
    "print np.round(np.dot(np.dot(U[:,:2], np.diag(s[:2])), Vh[:2,:]),1) # k=2 reconstruction"
   ]
  },
  {
   "cell_type": "markdown",
   "metadata": {},
   "source": [
    "The following code removes both the second and third columns. Now there are more errors. Some elements of the matrix are missing more\n",
    "than a few decimal points. However, you can see that most of the numeric\n",
    "information is intact. Just imagine the potential of using such a technique on\n",
    "a larger matrix, a matrix with hundreds of columns."
   ]
  },
  {
   "cell_type": "code",
   "execution_count": 5,
   "metadata": {
    "collapsed": false
   },
   "outputs": [
    {
     "name": "stdout",
     "output_type": "stream",
     "text": [
      "[[ 2.1  2.5  3.7]\n",
      " [ 2.6  3.1  4.6]\n",
      " [ 1.6  1.8  2.8]\n",
      " [ 3.7  4.3  6.5]]\n"
     ]
    }
   ],
   "source": [
    "print np.round(np.dot(np.dot(U[:,:1], np.diag(s[:1])), Vh[:1,:]),1) # k=1 reconstruction"
   ]
  },
  {
   "cell_type": "markdown",
   "metadata": {},
   "source": [
    "As a general rule, you\n",
    "should consider solutions maintaining from 70 to 99 percent of the original\n",
    "information; however, that’s not a strict rule — it really depends on how\n",
    "important it is for you to be able to reconstruct the original dataset."
   ]
  },
  {
   "cell_type": "code",
   "execution_count": 6,
   "metadata": {
    "collapsed": false
   },
   "outputs": [
    {
     "name": "stdout",
     "output_type": "stream",
     "text": [
      "[ 0.07825467  0.0552851   0.054451    0.04996887  0.04132026]\n",
      "0.279279901364\n"
     ]
    },
    {
     "ename": "NameError",
     "evalue": "name 'shape' is not defined",
     "output_type": "error",
     "traceback": [
      "\u001b[0;31m---------------------------------------------------------------------------\u001b[0m",
      "\u001b[0;31mNameError\u001b[0m                                 Traceback (most recent call last)",
      "\u001b[0;32m<ipython-input-6-2230b50b0bca>\u001b[0m in \u001b[0;36m<module>\u001b[0;34m()\u001b[0m\n\u001b[1;32m      6\u001b[0m \u001b[0;32mprint\u001b[0m\u001b[0;34m(\u001b[0m\u001b[0msvd\u001b[0m\u001b[0;34m.\u001b[0m\u001b[0mexplained_variance_ratio_\u001b[0m\u001b[0;34m)\u001b[0m\u001b[0;34m\u001b[0m\u001b[0m\n\u001b[1;32m      7\u001b[0m \u001b[0;32mprint\u001b[0m\u001b[0;34m(\u001b[0m\u001b[0msvd\u001b[0m\u001b[0;34m.\u001b[0m\u001b[0mexplained_variance_ratio_\u001b[0m\u001b[0;34m.\u001b[0m\u001b[0msum\u001b[0m\u001b[0;34m(\u001b[0m\u001b[0;34m)\u001b[0m\u001b[0;34m)\u001b[0m\u001b[0;34m\u001b[0m\u001b[0m\n\u001b[0;32m----> 8\u001b[0;31m \u001b[0mshape\u001b[0m\u001b[0;34m(\u001b[0m\u001b[0msvd\u001b[0m\u001b[0;34m.\u001b[0m\u001b[0mcomponents_\u001b[0m\u001b[0;34m)\u001b[0m\u001b[0;34m\u001b[0m\u001b[0m\n\u001b[0m",
      "\u001b[0;31mNameError\u001b[0m: name 'shape' is not defined"
     ]
    }
   ],
   "source": [
    "from sklearn.decomposition import TruncatedSVD\n",
    "from sklearn.random_projection import sparse_random_matrix\n",
    "X = sparse_random_matrix(100, 100, density=0.01, random_state=42)\n",
    "svd = TruncatedSVD(n_components=5, random_state=42)\n",
    "svd.fit(X) \n",
    "print(svd.explained_variance_ratio_) \n",
    "print(svd.explained_variance_ratio_.sum())\n",
    "shape(svd.components_)"
   ]
  },
  {
   "cell_type": "markdown",
   "metadata": {},
   "source": [
    "## Performing Factor Analysis"
   ]
  },
  {
   "cell_type": "markdown",
   "metadata": {},
   "source": [
    "### Considering the psychometric model"
   ]
  },
  {
   "cell_type": "markdown",
   "metadata": {},
   "source": [
    "### Looking for hidden factors"
   ]
  },
  {
   "cell_type": "code",
   "execution_count": 7,
   "metadata": {
    "collapsed": false
   },
   "outputs": [],
   "source": [
    "from sklearn.datasets import load_iris\n",
    "from sklearn.decomposition import FactorAnalysis\n",
    "iris = load_iris()\n",
    "X = iris.data\n",
    "Y = iris.target\n",
    "factor = FactorAnalysis(n_components=4).fit(X)"
   ]
  },
  {
   "cell_type": "code",
   "execution_count": 8,
   "metadata": {
    "collapsed": false
   },
   "outputs": [
    {
     "name": "stdout",
     "output_type": "stream",
     "text": [
      "[0 0 0 0 0 0 0 0 0 0 0 0 0 0 0 0 0 0 0 0 0 0 0 0 0 0 0 0 0 0 0 0 0 0 0 0 0\n",
      " 0 0 0 0 0 0 0 0 0 0 0 0 0 1 1 1 1 1 1 1 1 1 1 1 1 1 1 1 1 1 1 1 1 1 1 1 1\n",
      " 1 1 1 1 1 1 1 1 1 1 1 1 1 1 1 1 1 1 1 1 1 1 1 1 1 1 2 2 2 2 2 2 2 2 2 2 2\n",
      " 2 2 2 2 2 2 2 2 2 2 2 2 2 2 2 2 2 2 2 2 2 2 2 2 2 2 2 2 2 2 2 2 2 2 2 2 2\n",
      " 2 2]\n",
      "[[ 5.1  3.5  1.4  0.2]\n",
      " [ 4.9  3.   1.4  0.2]\n",
      " [ 4.7  3.2  1.3  0.2]\n",
      " [ 4.6  3.1  1.5  0.2]\n",
      " [ 5.   3.6  1.4  0.2]\n",
      " [ 5.4  3.9  1.7  0.4]\n",
      " [ 4.6  3.4  1.4  0.3]\n",
      " [ 5.   3.4  1.5  0.2]\n",
      " [ 4.4  2.9  1.4  0.2]\n",
      " [ 4.9  3.1  1.5  0.1]\n",
      " [ 5.4  3.7  1.5  0.2]\n",
      " [ 4.8  3.4  1.6  0.2]\n",
      " [ 4.8  3.   1.4  0.1]\n",
      " [ 4.3  3.   1.1  0.1]\n",
      " [ 5.8  4.   1.2  0.2]\n",
      " [ 5.7  4.4  1.5  0.4]\n",
      " [ 5.4  3.9  1.3  0.4]\n",
      " [ 5.1  3.5  1.4  0.3]\n",
      " [ 5.7  3.8  1.7  0.3]\n",
      " [ 5.1  3.8  1.5  0.3]\n",
      " [ 5.4  3.4  1.7  0.2]\n",
      " [ 5.1  3.7  1.5  0.4]\n",
      " [ 4.6  3.6  1.   0.2]\n",
      " [ 5.1  3.3  1.7  0.5]\n",
      " [ 4.8  3.4  1.9  0.2]\n",
      " [ 5.   3.   1.6  0.2]\n",
      " [ 5.   3.4  1.6  0.4]\n",
      " [ 5.2  3.5  1.5  0.2]\n",
      " [ 5.2  3.4  1.4  0.2]\n",
      " [ 4.7  3.2  1.6  0.2]\n",
      " [ 4.8  3.1  1.6  0.2]\n",
      " [ 5.4  3.4  1.5  0.4]\n",
      " [ 5.2  4.1  1.5  0.1]\n",
      " [ 5.5  4.2  1.4  0.2]\n",
      " [ 4.9  3.1  1.5  0.1]\n",
      " [ 5.   3.2  1.2  0.2]\n",
      " [ 5.5  3.5  1.3  0.2]\n",
      " [ 4.9  3.1  1.5  0.1]\n",
      " [ 4.4  3.   1.3  0.2]\n",
      " [ 5.1  3.4  1.5  0.2]\n",
      " [ 5.   3.5  1.3  0.3]\n",
      " [ 4.5  2.3  1.3  0.3]\n",
      " [ 4.4  3.2  1.3  0.2]\n",
      " [ 5.   3.5  1.6  0.6]\n",
      " [ 5.1  3.8  1.9  0.4]\n",
      " [ 4.8  3.   1.4  0.3]\n",
      " [ 5.1  3.8  1.6  0.2]\n",
      " [ 4.6  3.2  1.4  0.2]\n",
      " [ 5.3  3.7  1.5  0.2]\n",
      " [ 5.   3.3  1.4  0.2]\n",
      " [ 7.   3.2  4.7  1.4]\n",
      " [ 6.4  3.2  4.5  1.5]\n",
      " [ 6.9  3.1  4.9  1.5]\n",
      " [ 5.5  2.3  4.   1.3]\n",
      " [ 6.5  2.8  4.6  1.5]\n",
      " [ 5.7  2.8  4.5  1.3]\n",
      " [ 6.3  3.3  4.7  1.6]\n",
      " [ 4.9  2.4  3.3  1. ]\n",
      " [ 6.6  2.9  4.6  1.3]\n",
      " [ 5.2  2.7  3.9  1.4]\n",
      " [ 5.   2.   3.5  1. ]\n",
      " [ 5.9  3.   4.2  1.5]\n",
      " [ 6.   2.2  4.   1. ]\n",
      " [ 6.1  2.9  4.7  1.4]\n",
      " [ 5.6  2.9  3.6  1.3]\n",
      " [ 6.7  3.1  4.4  1.4]\n",
      " [ 5.6  3.   4.5  1.5]\n",
      " [ 5.8  2.7  4.1  1. ]\n",
      " [ 6.2  2.2  4.5  1.5]\n",
      " [ 5.6  2.5  3.9  1.1]\n",
      " [ 5.9  3.2  4.8  1.8]\n",
      " [ 6.1  2.8  4.   1.3]\n",
      " [ 6.3  2.5  4.9  1.5]\n",
      " [ 6.1  2.8  4.7  1.2]\n",
      " [ 6.4  2.9  4.3  1.3]\n",
      " [ 6.6  3.   4.4  1.4]\n",
      " [ 6.8  2.8  4.8  1.4]\n",
      " [ 6.7  3.   5.   1.7]\n",
      " [ 6.   2.9  4.5  1.5]\n",
      " [ 5.7  2.6  3.5  1. ]\n",
      " [ 5.5  2.4  3.8  1.1]\n",
      " [ 5.5  2.4  3.7  1. ]\n",
      " [ 5.8  2.7  3.9  1.2]\n",
      " [ 6.   2.7  5.1  1.6]\n",
      " [ 5.4  3.   4.5  1.5]\n",
      " [ 6.   3.4  4.5  1.6]\n",
      " [ 6.7  3.1  4.7  1.5]\n",
      " [ 6.3  2.3  4.4  1.3]\n",
      " [ 5.6  3.   4.1  1.3]\n",
      " [ 5.5  2.5  4.   1.3]\n",
      " [ 5.5  2.6  4.4  1.2]\n",
      " [ 6.1  3.   4.6  1.4]\n",
      " [ 5.8  2.6  4.   1.2]\n",
      " [ 5.   2.3  3.3  1. ]\n",
      " [ 5.6  2.7  4.2  1.3]\n",
      " [ 5.7  3.   4.2  1.2]\n",
      " [ 5.7  2.9  4.2  1.3]\n",
      " [ 6.2  2.9  4.3  1.3]\n",
      " [ 5.1  2.5  3.   1.1]\n",
      " [ 5.7  2.8  4.1  1.3]\n",
      " [ 6.3  3.3  6.   2.5]\n",
      " [ 5.8  2.7  5.1  1.9]\n",
      " [ 7.1  3.   5.9  2.1]\n",
      " [ 6.3  2.9  5.6  1.8]\n",
      " [ 6.5  3.   5.8  2.2]\n",
      " [ 7.6  3.   6.6  2.1]\n",
      " [ 4.9  2.5  4.5  1.7]\n",
      " [ 7.3  2.9  6.3  1.8]\n",
      " [ 6.7  2.5  5.8  1.8]\n",
      " [ 7.2  3.6  6.1  2.5]\n",
      " [ 6.5  3.2  5.1  2. ]\n",
      " [ 6.4  2.7  5.3  1.9]\n",
      " [ 6.8  3.   5.5  2.1]\n",
      " [ 5.7  2.5  5.   2. ]\n",
      " [ 5.8  2.8  5.1  2.4]\n",
      " [ 6.4  3.2  5.3  2.3]\n",
      " [ 6.5  3.   5.5  1.8]\n",
      " [ 7.7  3.8  6.7  2.2]\n",
      " [ 7.7  2.6  6.9  2.3]\n",
      " [ 6.   2.2  5.   1.5]\n",
      " [ 6.9  3.2  5.7  2.3]\n",
      " [ 5.6  2.8  4.9  2. ]\n",
      " [ 7.7  2.8  6.7  2. ]\n",
      " [ 6.3  2.7  4.9  1.8]\n",
      " [ 6.7  3.3  5.7  2.1]\n",
      " [ 7.2  3.2  6.   1.8]\n",
      " [ 6.2  2.8  4.8  1.8]\n",
      " [ 6.1  3.   4.9  1.8]\n",
      " [ 6.4  2.8  5.6  2.1]\n",
      " [ 7.2  3.   5.8  1.6]\n",
      " [ 7.4  2.8  6.1  1.9]\n",
      " [ 7.9  3.8  6.4  2. ]\n",
      " [ 6.4  2.8  5.6  2.2]\n",
      " [ 6.3  2.8  5.1  1.5]\n",
      " [ 6.1  2.6  5.6  1.4]\n",
      " [ 7.7  3.   6.1  2.3]\n",
      " [ 6.3  3.4  5.6  2.4]\n",
      " [ 6.4  3.1  5.5  1.8]\n",
      " [ 6.   3.   4.8  1.8]\n",
      " [ 6.9  3.1  5.4  2.1]\n",
      " [ 6.7  3.1  5.6  2.4]\n",
      " [ 6.9  3.1  5.1  2.3]\n",
      " [ 5.8  2.7  5.1  1.9]\n",
      " [ 6.8  3.2  5.9  2.3]\n",
      " [ 6.7  3.3  5.7  2.5]\n",
      " [ 6.7  3.   5.2  2.3]\n",
      " [ 6.3  2.5  5.   1.9]\n",
      " [ 6.5  3.   5.2  2. ]\n",
      " [ 6.2  3.4  5.4  2.3]\n",
      " [ 5.9  3.   5.1  1.8]]\n"
     ]
    }
   ],
   "source": [
    "print Y\n",
    "print X"
   ]
  },
  {
   "cell_type": "code",
   "execution_count": 9,
   "metadata": {
    "collapsed": false,
    "scrolled": true
   },
   "outputs": [
    {
     "name": "stdout",
     "output_type": "stream",
     "text": [
      "   sepal length (cm)  sepal width (cm)  petal length (cm)  petal width (cm)\n",
      "0           0.707227         -0.153147           1.653151          0.701569\n",
      "1           0.114676          0.159763          -0.045604         -0.014052\n",
      "2          -0.000000          0.000000           0.000000          0.000000\n",
      "3          -0.000000          0.000000           0.000000         -0.000000\n"
     ]
    }
   ],
   "source": [
    "import pandas as pd\n",
    "print pd.DataFrame(factor.components_,columns=iris.feature_names)"
   ]
  },
  {
   "cell_type": "markdown",
   "metadata": {},
   "source": [
    "the\n",
    "FactorAnalysis class is initialized with a request to look for four factors.\n",
    "The data is then fitted. You can explore the results by observing the components_\n",
    "attribute, which returns an array containing measures of the relationship\n",
    "between the newly created factors, placed in rows, and the original\n",
    "features, placed in columns. At the intersection of each factor and feature,\n",
    "a positive number indicates that a positive proportion exists between the\n",
    "two; a negative number, instead, points out that they diverge and one is the\n",
    "contrary\n",
    "to the other."
   ]
  },
  {
   "cell_type": "markdown",
   "metadata": {},
   "source": [
    "In the test on the Iris dataset, for example, the resulting factors should be a\n",
    "maximum of 2, not 4, because only two factors have significant connections\n",
    "with the original features. You can use these two factors as new variables in\n",
    "your project because they reflect an unseen but important feature that the\n",
    "previously available data only hinted at."
   ]
  },
  {
   "cell_type": "markdown",
   "metadata": {},
   "source": [
    "## Executing Principal Component Analysis"
   ]
  },
  {
   "cell_type": "markdown",
   "metadata": {},
   "source": [
    "### Using components, not factors"
   ]
  },
  {
   "cell_type": "markdown",
   "metadata": {},
   "source": [
    "If an SVD could be successfully applied to the common variance, you might\n",
    "wonder why you can’t apply it to all the variances. Using a slightly modified starting\n",
    "matrix, all the relationships in the data could be reduced and compressed\n",
    "in a similar way to how SVD does it. The results of this process, which are quite\n",
    "similar to SVD, are called principal components analysis (PCA). The newly created\n",
    "features are named components. In contrast to factors, components aren’t\n",
    "described as the root cause of the data structure but are just restructured data,\n",
    "so you can view them as a big, smart summation of selected variables.\n",
    "For data science applications, PCA and SVD are quite similar. However, PCA\n",
    "isn’t affected by the scale of the original features (because it works on correlation\n",
    "measures that are all bound between –1 and +1 values) and PCA\n",
    "focuses on rebuilding the relationship between the variables, thus offering\n",
    "different results from SVD."
   ]
  },
  {
   "cell_type": "markdown",
   "metadata": {},
   "source": [
    "### Achieving dimensionality reduction"
   ]
  },
  {
   "cell_type": "markdown",
   "metadata": {},
   "source": [
    "The procedure to obtain a PCA is quite similar to the factor analysis. The\n",
    "difference\n",
    "is that you don’t specify the number of components to extract. You\n",
    "decide later how many components to keep after checking the explained_\n",
    "variance_ratio_ attribute, which provides quantification (in percentage)\n",
    "of the informative value of each extracted component. The following example\n",
    "shows how to perform this task:"
   ]
  },
  {
   "cell_type": "code",
   "execution_count": 10,
   "metadata": {
    "collapsed": false,
    "scrolled": true
   },
   "outputs": [
    {
     "name": "stdout",
     "output_type": "stream",
     "text": [
      "Explained variance by each component: [ 0.92461621  0.05301557  0.01718514  0.00518309]\n",
      "   sepal length (cm)  sepal width (cm)  petal length (cm)  petal width (cm)\n",
      "0           0.361590         -0.082269           0.856572          0.358844\n",
      "1          -0.656540         -0.729712           0.175767          0.074706\n",
      "2           0.580997         -0.596418          -0.072524         -0.549061\n",
      "3           0.317255         -0.324094          -0.479719          0.751121\n"
     ]
    }
   ],
   "source": [
    "from sklearn.decomposition import PCA\n",
    "import pandas as pd\n",
    "pca = PCA().fit(X)\n",
    "print 'Explained variance by each component: %s' % pca.explained_variance_ratio_\n",
    "print pd.DataFrame(pca.components_,columns=iris.feature_names)"
   ]
  },
  {
   "cell_type": "markdown",
   "metadata": {},
   "source": [
    "In this decomposition of the Iris dataset, the vector array provided by\n",
    "explained_variance_ratio_ indicates that most of the information is\n",
    "concentrated into the first component (92.5 percent). You saw this same sort\n",
    "of result after the factor analysis. It’s therefore possible to reduce the entire\n",
    "dataset to just two components, providing a reduction of noise and redundant\n",
    "information from the original dataset."
   ]
  },
  {
   "cell_type": "code",
   "execution_count": 11,
   "metadata": {
    "collapsed": false
   },
   "outputs": [
    {
     "name": "stdout",
     "output_type": "stream",
     "text": [
      "[[ 0.36158968 -0.08226889  0.85657211  0.35884393]\n",
      " [-0.65653988 -0.72971237  0.1757674   0.07470647]\n",
      " [ 0.58099728 -0.59641809 -0.07252408 -0.54906091]\n",
      " [ 0.31725455 -0.32409435 -0.47971899  0.75112056]]\n",
      "4\n"
     ]
    }
   ],
   "source": [
    "print pca.components_\n",
    "print pca.n_components_"
   ]
  },
  {
   "cell_type": "markdown",
   "metadata": {},
   "source": [
    "## Understanding some applications"
   ]
  },
  {
   "cell_type": "markdown",
   "metadata": {},
   "source": [
    "### Recognizing faces with PCA"
   ]
  },
  {
   "cell_type": "markdown",
   "metadata": {},
   "source": [
    "The dataset contains 400 images of 40 different persons. The photos were taken\n",
    "with different light conditions and facial expressions (including open/closed eyes,\n",
    "smiling/not smiling, and with glasses/no glasses). For additional information about\n",
    "the dataset refer to http://www.cl.cam.ac.uk/research/dtg/attarchive/\n",
    "facedatabase.html.\n",
    "Looking at the content of the faces object, we get the following properties: images,\n",
    "data, and target. Images contain the 400 images represented as 64 x 64 pixel\n",
    "matrices. data contains the same 400 images but as array of 4096 pixels. target is, as\n",
    "expected, an array with the target classes, ranging from 0 to 39."
   ]
  },
  {
   "cell_type": "code",
   "execution_count": 12,
   "metadata": {
    "collapsed": false
   },
   "outputs": [
    {
     "name": "stdout",
     "output_type": "stream",
     "text": [
      "Modified Olivetti faces dataset.\n",
      "\n",
      "The original database was available from (now defunct)\n",
      "\n",
      "    http://www.uk.research.att.com/facedatabase.html\n",
      "\n",
      "The version retrieved here comes in MATLAB format from the personal\n",
      "web page of Sam Roweis:\n",
      "\n",
      "    http://www.cs.nyu.edu/~roweis/\n",
      "\n",
      "There are ten different images of each of 40 distinct subjects. For some\n",
      "subjects, the images were taken at different times, varying the lighting,\n",
      "facial expressions (open / closed eyes, smiling / not smiling) and facial\n",
      "details (glasses / no glasses). All the images were taken against a dark\n",
      "homogeneous background with the subjects in an upright, frontal position (with\n",
      "tolerance for some side movement).\n",
      "\n",
      "The original dataset consisted of 92 x 112, while the Roweis version\n",
      "consists of 64x64 images.\n",
      "\n"
     ]
    }
   ],
   "source": [
    "from sklearn.datasets import fetch_olivetti_faces\n",
    "dataset = fetch_olivetti_faces(shuffle=True, random_state=101)\n",
    "train_faces = dataset.data[:350,:]\n",
    "test_faces  = dataset.data[350:,:]\n",
    "train_answers = dataset.target[:350]\n",
    "test_answers = dataset.target[350:]\n",
    "\n",
    "print dataset.DESCR"
   ]
  },
  {
   "cell_type": "code",
   "execution_count": 21,
   "metadata": {
    "collapsed": false
   },
   "outputs": [
    {
     "name": "stdout",
     "output_type": "stream",
     "text": [
      "(400, 4096)\n",
      "(400,)\n",
      "[[  0.  10.]\n",
      " [  1.  10.]\n",
      " [  2.  10.]\n",
      " [  3.  10.]\n",
      " [  4.  10.]\n",
      " [  5.  10.]\n",
      " [  6.  10.]\n",
      " [  7.  10.]\n",
      " [  8.  10.]\n",
      " [  9.  10.]\n",
      " [ 10.  10.]\n",
      " [ 11.  10.]\n",
      " [ 12.  10.]\n",
      " [ 13.  10.]\n",
      " [ 14.  10.]\n",
      " [ 15.  10.]\n",
      " [ 16.  10.]\n",
      " [ 17.  10.]\n",
      " [ 18.  10.]\n",
      " [ 19.  10.]\n",
      " [ 20.  10.]\n",
      " [ 21.  10.]\n",
      " [ 22.  10.]\n",
      " [ 23.  10.]\n",
      " [ 24.  10.]\n",
      " [ 25.  10.]\n",
      " [ 26.  10.]\n",
      " [ 27.  10.]\n",
      " [ 28.  10.]\n",
      " [ 29.  10.]\n",
      " [ 30.  10.]\n",
      " [ 31.  10.]\n",
      " [ 32.  10.]\n",
      " [ 33.  10.]\n",
      " [ 34.  10.]\n",
      " [ 35.  10.]\n",
      " [ 36.  10.]\n",
      " [ 37.  10.]\n",
      " [ 38.  10.]\n",
      " [ 39.  10.]]\n"
     ]
    }
   ],
   "source": [
    "print dataset.data.shape\n",
    "print dataset.target.shape\n",
    "\n",
    "from scipy.stats import itemfreq\n",
    "print itemfreq(dataset.target)"
   ]
  },
  {
   "cell_type": "code",
   "execution_count": 14,
   "metadata": {
    "collapsed": false
   },
   "outputs": [
    {
     "name": "stdout",
     "output_type": "stream",
     "text": [
      "Explained variance by 25 components: 0.794\n"
     ]
    }
   ],
   "source": [
    "from sklearn.decomposition import RandomizedPCA\n",
    "n_components = 25\n",
    "Rpca = RandomizedPCA(n_components=n_components, whiten=True).fit(train_faces)\n",
    "print 'Explained variance by %i components: %0.3f' % (n_components, np.sum(Rpca.explained_variance_ratio_))\n",
    "compressed_train_faces = Rpca.transform(train_faces)\n",
    "compressed_test_faces  = Rpca.transform(test_faces)"
   ]
  },
  {
   "cell_type": "code",
   "execution_count": 19,
   "metadata": {
    "collapsed": false
   },
   "outputs": [
    {
     "name": "stdout",
     "output_type": "stream",
     "text": [
      "15\n",
      "34\n"
     ]
    }
   ],
   "source": [
    "print train_answers[17]\n",
    "print test_answers[17]"
   ]
  },
  {
   "cell_type": "code",
   "execution_count": 15,
   "metadata": {
    "collapsed": false
   },
   "outputs": [
    {
     "name": "stdout",
     "output_type": "stream",
     "text": [
      "We are looking for face id=34\n"
     ]
    },
    {
     "data": {
      "text/plain": [
       "<matplotlib.image.AxesImage at 0x10ed16510>"
      ]
     },
     "execution_count": 15,
     "metadata": {},
     "output_type": "execute_result"
    },
    {
     "data": {
      "image/png": "[encoded data removed]",
      "text/plain": [
       "<matplotlib.figure.Figure at 0x10bfd29d0>"
      ]
     },
     "metadata": {},
     "output_type": "display_data"
    }
   ],
   "source": [
    "%matplotlib inline\n",
    "import matplotlib.pyplot as plt\n",
    "photo = 17\n",
    "print 'We are looking for face id=%i' % test_answers[photo]\n",
    "plt.subplot(1, 2, 1)\n",
    "plt.axis('off')\n",
    "plt.title('Unknown face '+str(photo)+' in test set')\n",
    "plt.imshow(test_faces[photo].reshape(64,64), cmap=plt.cm.gray, interpolation='nearest')"
   ]
  },
  {
   "cell_type": "markdown",
   "metadata": {},
   "source": [
    "Figure 14-1 represents the chosen photo from the test set. It is subject\n",
    "number 34."
   ]
  },
  {
   "cell_type": "markdown",
   "metadata": {},
   "source": [
    "After the decomposition of the test set, the example takes the data relative\n",
    "only to photo 17 and subtracts it from the decomposition of the training\n",
    "set. Now the training set is made of differences with respect to the example\n",
    "photo. The code squares them (to remove negative values) and sums them\n",
    "by row. That results in a series of summed errors. The most similar photos\n",
    "are the ones with the least‐squared errors, the ones whose differences are\n",
    "the least."
   ]
  },
  {
   "cell_type": "code",
   "execution_count": 38,
   "metadata": {
    "collapsed": false
   },
   "outputs": [
    {
     "name": "stdout",
     "output_type": "stream",
     "text": [
      "Best resembling face in train test: 34\n",
      "(350,)\n"
     ]
    }
   ],
   "source": [
    "mask = compressed_test_faces[photo,] #Just the vector of value components of our photo\n",
    "squared_errors = np.sum((compressed_train_faces - mask)**2,axis=1)\n",
    "minimum_error_face = np.argmin(squared_errors)  # returns index of minimum value\n",
    "most_resembling = list(np.where(squared_errors < 20)[0])\n",
    "print 'Best resembling face in train test: %i' % train_answers[minimum_error_face]\n",
    "print squared_errors.shape"
   ]
  },
  {
   "cell_type": "code",
   "execution_count": 40,
   "metadata": {
    "collapsed": false
   },
   "outputs": [
    {
     "name": "stdout",
     "output_type": "stream",
     "text": [
      "34\n",
      "34\n",
      "34\n"
     ]
    },
    {
     "data": {
      "image/png": "[encoded data removed]",
      "text/plain": [
       "<matplotlib.figure.Figure at 0x10f138390>"
      ]
     },
     "metadata": {},
     "output_type": "display_data"
    }
   ],
   "source": [
    "import matplotlib.pyplot as plt\n",
    "plt.subplot(2, 2, 1)\n",
    "plt.axis('off')\n",
    "plt.title('Unknown face '+str(photo)+' in test set')\n",
    "plt.imshow(test_faces[photo].reshape(64,64), cmap=plt.cm.gray, interpolation='nearest')\n",
    "for k,m in enumerate(most_resembling[:3]):\n",
    "    print train_answers[m]\n",
    "    plt.subplot(2, 2, 2+k)\n",
    "    plt.title('Match in train set no. '+str(m))\n",
    "    plt.axis('off')\n",
    "    plt.imshow(train_faces[m].reshape(64,64), cmap=plt.cm.gray, interpolation='nearest')\n",
    "plt.show()"
   ]
  },
  {
   "cell_type": "markdown",
   "metadata": {},
   "source": [
    "Even though the most similar photo is similar (it’s just scaled slightly differently),\n",
    "the other two photos are quite different. However, even though those\n",
    "photos don’t match the text image as well, they really do show the same\n",
    "person as in photo 17."
   ]
  },
  {
   "cell_type": "markdown",
   "metadata": {},
   "source": [
    "### Positive Matrix factorization"
   ]
  },
  {
   "cell_type": "code",
   "execution_count": 41,
   "metadata": {
    "collapsed": false
   },
   "outputs": [
    {
     "name": "stdout",
     "output_type": "stream",
     "text": [
      "/Users/sbajaj/Google Drive/Documents/LBNL/Books/844182 Source Code 02 01 2016\n"
     ]
    }
   ],
   "source": [
    "import os\n",
    "print os.getcwd()"
   ]
  },
  {
   "cell_type": "markdown",
   "metadata": {},
   "source": [
    "This is a perfect application for the SVD family, because by reducing the\n",
    "number of columns, the features (in a document, the words are the features)\n",
    "will gather in dimensions, and you can discover the topics by checking highscoring\n",
    "words. SVD and PCA provide features to relate both positively and\n",
    "negatively with the newly created dimensions. So a resulting topic may be\n",
    "expressed by the presence of a word (high positive value) or by the absence\n",
    "of it (high negative value), making interpretation both tricky and counterintuitive\n",
    "for humans. Luckily, Scikit‐learn includes the Non‐Negative Matrix\n",
    "Factorization (NMF) decomposition class, which allows an original feature to\n",
    "relate only positively with the resulting dimensions."
   ]
  },
  {
   "cell_type": "code",
   "execution_count": 50,
   "metadata": {
    "collapsed": false
   },
   "outputs": [
    {
     "name": "stdout",
     "output_type": "stream",
     "text": [
      "Posts: 585\n",
      "585\n"
     ]
    }
   ],
   "source": [
    "from sklearn.datasets import fetch_20newsgroups\n",
    "dataset = fetch_20newsgroups(shuffle=True, categories = ['misc.forsale'], remove=('headers', 'footers', 'quotes'), random_state=101)\n",
    "print 'Posts: %i' % len(dataset.data)\n",
    "print len(dataset.data)"
   ]
  },
  {
   "cell_type": "code",
   "execution_count": 43,
   "metadata": {
    "collapsed": false
   },
   "outputs": [
    {
     "name": "stdout",
     "output_type": "stream",
     "text": [
      "['misc.forsale']\n"
     ]
    }
   ],
   "source": [
    "print dataset.target_names"
   ]
  },
  {
   "cell_type": "markdown",
   "metadata": {},
   "source": [
    "The TfidVectorizer class is imported and set up to remove stop words\n",
    "(common words such as the or and) and keep only distinctive words, producing\n",
    "a matrix whose columns point to distinct words. Term frequency‐inverse document frequency (Tf‐idf) is a simple calculation\n",
    "based on the frequency of a word in document. It is weighted by the rarity of\n",
    "the word between all the documents available. Weighting words is an effective\n",
    "way to rule out words that cannot help you to classify or to identify the\n",
    "document when processing text. For example, you can eliminate common\n",
    "parts of speech or other common words."
   ]
  },
  {
   "cell_type": "code",
   "execution_count": 51,
   "metadata": {
    "collapsed": false
   },
   "outputs": [
    {
     "name": "stdout",
     "output_type": "stream",
     "text": [
      "(585, 3775)\n",
      "  (0, 1554)\t0.183110983537\n",
      "  (0, 94)\t0.179908696221\n",
      "  (0, 1906)\t0.212128648712\n",
      "  (0, 2151)\t0.167089934497\n",
      "  (0, 2202)\t0.186618692418\n",
      "  (0, 2733)\t0.174235475273\n",
      "  (0, 2347)\t0.164986328394\n",
      "  (0, 1657)\t0.23092860881\n",
      "  (0, 3080)\t0.194831064048\n",
      "  (0, 2709)\t0.530888632356\n",
      "  (0, 2992)\t0.199745431567\n",
      "  (0, 2415)\t0.0857473173613\n",
      "  (0, 2117)\t0.204492670588\n",
      "  (0, 2476)\t0.235461186466\n",
      "  (0, 2348)\t0.155965065138\n",
      "  (0, 1294)\t0.164986328394\n",
      "  (0, 2080)\t0.199745431567\n",
      "  (0, 1614)\t0.23092860881\n",
      "  (0, 3454)\t0.205418652515\n",
      "  (0, 3443)\t0.212128648712\n",
      "  (0, 662)\t0.138468005257\n"
     ]
    }
   ],
   "source": [
    "from sklearn.feature_extraction.text import TfidfVectorizer\n",
    "vectorizer = TfidfVectorizer(max_df=0.95, min_df=2, stop_words='english')\n",
    "tfidf = vectorizer.fit_transform(dataset.data)\n",
    "print tfidf.shape\n",
    "print tfidf[1]"
   ]
  },
  {
   "cell_type": "markdown",
   "metadata": {},
   "source": [
    "As with other algorithms from the sklearn.decomposition module, the\n",
    "n_components parameter indicates the number of desired components. If\n",
    "you’d like to look for more topics, you use a higher number. As the required\n",
    "number of topics increases, the reconstruction_err_ method reports\n",
    "lower error rates. It’s up to you to decide when to stop given the trade‐off\n",
    "between more time spent on computations and more topics."
   ]
  },
  {
   "cell_type": "code",
   "execution_count": 58,
   "metadata": {
    "collapsed": false
   },
   "outputs": [
    {
     "name": "stdout",
     "output_type": "stream",
     "text": [
      "(5, 3775)\n",
      "23.2750402208\n"
     ]
    }
   ],
   "source": [
    "from sklearn.decomposition import NMF\n",
    "n_topics = 5\n",
    "nmf = NMF(n_components=n_topics, random_state=101).fit(tfidf)\n",
    "print nmf.components_.shape\n",
    "print nmf.reconstruction_err_"
   ]
  },
  {
   "cell_type": "markdown",
   "metadata": {},
   "source": [
    "You can explore the resulting model by looking into the attribute components_\n",
    "from the trained NMF model. It consists of a NumPy ndarray holding\n",
    "positive values for words connected to the topic. By using the argsort\n",
    "method, you can get the indexes of the top associations, whose high values\n",
    "indicate that they are the most representative words."
   ]
  },
  {
   "cell_type": "code",
   "execution_count": 56,
   "metadata": {
    "collapsed": false
   },
   "outputs": [
    {
     "name": "stdout",
     "output_type": "stream",
     "text": [
      "Topic #1: drive hard card floppy monitor meg ram disk motherboard vga scsi brand color internal modem\n",
      "Topic #2: 00 50 dos 20 10 15 cover 1st new 25 price man 40 shipping comics\n",
      "Topic #3: condition excellent offer asking best car old sale good new miles 10 000 tape cd\n",
      "Topic #4: email looking games game mail interested send like thanks price package list sale want know\n",
      "Topic #5: shipping vcr stereo works obo included amp plus great volume vhs unc mathes gibbs radley\n"
     ]
    }
   ],
   "source": [
    "feature_names = vectorizer.get_feature_names()\n",
    "n_top_words = 15\n",
    "for topic_idx, topic in enumerate(nmf.components_):\n",
    "    print \"Topic #%d:\" % (topic_idx+1),\n",
    "    print \" \".join([feature_names[i] for i in topic.argsort()[:-n_top_words - 1:-1]])"
   ]
  },
  {
   "cell_type": "code",
   "execution_count": 57,
   "metadata": {
    "collapsed": false
   },
   "outputs": [
    {
     "data": {
      "text/plain": [
       "19.073339974010512"
      ]
     },
     "execution_count": 57,
     "metadata": {},
     "output_type": "execute_result"
    }
   ],
   "source": [
    "nmf = NMF(n_components=n_topics+100, random_state=101).fit(tfidf)\n",
    "nmf.reconstruction_err_"
   ]
  },
  {
   "cell_type": "markdown",
   "metadata": {},
   "source": [
    "### Movie Recommendation Engine"
   ]
  },
  {
   "cell_type": "markdown",
   "metadata": {},
   "source": [
    "the method\n",
    "is called collaborative filtering).\n",
    "You can implement collaborative recommendations based on simple means\n",
    "or frequencies calculated on other customers’ set of purchased items or on\n",
    "ratings using SVD."
   ]
  },
  {
   "cell_type": "code",
   "execution_count": 82,
   "metadata": {
    "collapsed": false
   },
   "outputs": [
    {
     "name": "stderr",
     "output_type": "stream",
     "text": [
      "/Users/sbajaj/Library/Python/2.7/lib/python/site-packages/ipykernel/__main__.py:3: ParserWarning: Falling back to the 'python' engine because the 'c' engine does not support regex separators; you can avoid this warning by specifying engine='python'.\n",
      "  app.launch_new_instance()\n",
      "/Users/sbajaj/Library/Python/2.7/lib/python/site-packages/ipykernel/__main__.py:4: ParserWarning: Falling back to the 'python' engine because the 'c' engine does not support regex separators; you can avoid this warning by specifying engine='python'.\n",
      "/Users/sbajaj/Library/Python/2.7/lib/python/site-packages/ipykernel/__main__.py:5: ParserWarning: Falling back to the 'python' engine because the 'c' engine does not support regex separators; you can avoid this warning by specifying engine='python'.\n"
     ]
    },
    {
     "name": "stdout",
     "output_type": "stream",
     "text": [
      "   user_id gender  age  occupation    zip\n",
      "0        1      F    1          10  48067\n",
      "1        2      M   56          16  70072\n",
      "2        3      M   25          15  55117\n",
      "3        4      M   45           7  02460\n",
      "4        5      M   25          20  55455\n",
      "   user_id  movie_id  rating  timestamp\n",
      "0        1      1193       5  978300760\n",
      "1        1       661       3  978302109\n",
      "2        1       914       3  978301968\n",
      "3        1      3408       4  978300275\n",
      "4        1      2355       5  978824291\n",
      "   movie_id                               title                        genres\n",
      "0         1                    Toy Story (1995)   Animation|Children's|Comedy\n",
      "1         2                      Jumanji (1995)  Adventure|Children's|Fantasy\n",
      "2         3             Grumpier Old Men (1995)                Comedy|Romance\n",
      "3         4            Waiting to Exhale (1995)                  Comedy|Drama\n",
      "4         5  Father of the Bride Part II (1995)                        Comedy\n",
      "   user_id  movie_id  rating  timestamp gender  age  occupation    zip  \\\n",
      "0        1      1193       5  978300760      F    1          10  48067   \n",
      "1        2      1193       5  978298413      M   56          16  70072   \n",
      "2       12      1193       4  978220179      M   25          12  32793   \n",
      "3       15      1193       4  978199279      M   25           7  22903   \n",
      "4       17      1193       5  978158471      M   50           1  95350   \n",
      "\n",
      "                                    title genres  \n",
      "0  One Flew Over the Cuckoo's Nest (1975)  Drama  \n",
      "1  One Flew Over the Cuckoo's Nest (1975)  Drama  \n",
      "2  One Flew Over the Cuckoo's Nest (1975)  Drama  \n",
      "3  One Flew Over the Cuckoo's Nest (1975)  Drama  \n",
      "4  One Flew Over the Cuckoo's Nest (1975)  Drama  \n",
      "(1000209, 10)\n",
      "Number of unique users = 6040\n"
     ]
    }
   ],
   "source": [
    "import pandas as pd\n",
    "from scipy.sparse import csr_matrix\n",
    "users = pd.read_table('ml-1m/users.dat', sep='::', header=None, names=['user_id', 'gender', 'age', 'occupation', 'zip'])\n",
    "ratings = pd.read_table('ml-1m/ratings.dat', sep='::', header=None, names=['user_id', 'movie_id', 'rating', 'timestamp'])\n",
    "movies = pd.read_table('ml-1m/movies.dat', sep='::', header=None, names=['movie_id', 'title', 'genres'])\n",
    "print users.head()\n",
    "print ratings.head()\n",
    "print movies.head()\n",
    "MovieLens = pd.merge(pd.merge(ratings, users), movies)\n",
    "print MovieLens.head()\n",
    "print MovieLens.shape\n",
    "print 'Number of unique users = {}'.format(len(MovieLens['user_id'].unique()))"
   ]
  },
  {
   "cell_type": "code",
   "execution_count": 77,
   "metadata": {
    "collapsed": false
   },
   "outputs": [
    {
     "name": "stdout",
     "output_type": "stream",
     "text": [
      "title    $1,000,000 Duck (1971)  'Night Mother (1986)  \\\n",
      "user_id                                                 \n",
      "1                             0                     0   \n",
      "2                             0                     0   \n",
      "3                             0                     0   \n",
      "4                             0                     0   \n",
      "5                             0                     0   \n",
      "\n",
      "title    'Til There Was You (1997)  'burbs, The (1989)  \\\n",
      "user_id                                                  \n",
      "1                                0                   0   \n",
      "2                                0                   0   \n",
      "3                                0                   0   \n",
      "4                                0                   0   \n",
      "5                                0                   0   \n",
      "\n",
      "title    ...And Justice for All (1979)  1-900 (1994)  \\\n",
      "user_id                                                \n",
      "1                                    0             0   \n",
      "2                                    0             0   \n",
      "3                                    0             0   \n",
      "4                                    0             0   \n",
      "5                                    0             0   \n",
      "\n",
      "title    10 Things I Hate About You (1999)  101 Dalmatians (1961)  \\\n",
      "user_id                                                             \n",
      "1                                        0                      0   \n",
      "2                                        0                      0   \n",
      "3                                        0                      0   \n",
      "4                                        0                      0   \n",
      "5                                        0                      0   \n",
      "\n",
      "title    101 Dalmatians (1996)  12 Angry Men (1957)       ...         \\\n",
      "user_id                                                   ...          \n",
      "1                            0                    0       ...          \n",
      "2                            0                    0       ...          \n",
      "3                            0                    0       ...          \n",
      "4                            0                    0       ...          \n",
      "5                            0                    0       ...          \n",
      "\n",
      "title    Young Poisoner's Handbook, The (1995)  Young Sherlock Holmes (1985)  \\\n",
      "user_id                                                                        \n",
      "1                                            0                             0   \n",
      "2                                            0                             0   \n",
      "3                                            0                             0   \n",
      "4                                            0                             0   \n",
      "5                                            0                             0   \n",
      "\n",
      "title    Young and Innocent (1937)  Your Friends and Neighbors (1998)  \\\n",
      "user_id                                                                 \n",
      "1                                0                                  0   \n",
      "2                                0                                  0   \n",
      "3                                0                                  0   \n",
      "4                                0                                  0   \n",
      "5                                0                                  0   \n",
      "\n",
      "title    Zachariah (1971)  Zed & Two Noughts, A (1985)  Zero Effect (1998)  \\\n",
      "user_id                                                                      \n",
      "1                       0                            0                   0   \n",
      "2                       0                            0                   0   \n",
      "3                       0                            0                   0   \n",
      "4                       0                            0                   0   \n",
      "5                       0                            0                   0   \n",
      "\n",
      "title    Zero Kelvin (Kj�rlighetens kj�tere) (1995)  Zeus and Roxanne (1997)  \\\n",
      "user_id                                                                        \n",
      "1                                                 0                        0   \n",
      "2                                                 0                        0   \n",
      "3                                                 0                        0   \n",
      "4                                                 0                        0   \n",
      "5                                                 0                        0   \n",
      "\n",
      "title    eXistenZ (1999)  \n",
      "user_id                   \n",
      "1                      0  \n",
      "2                      0  \n",
      "3                      0  \n",
      "4                      0  \n",
      "5                      0  \n",
      "\n",
      "[5 rows x 3706 columns]\n",
      "(6040, 3706)\n",
      "Index([u'$1,000,000 Duck (1971)', u''Night Mother (1986)',\n",
      "       u''Til There Was You (1997)', u''burbs, The (1989)',\n",
      "       u'...And Justice for All (1979)', u'1-900 (1994)',\n",
      "       u'10 Things I Hate About You (1999)', u'101 Dalmatians (1961)',\n",
      "       u'101 Dalmatians (1996)', u'12 Angry Men (1957)',\n",
      "       ...\n",
      "       u'Young Poisoner's Handbook, The (1995)',\n",
      "       u'Young Sherlock Holmes (1985)', u'Young and Innocent (1937)',\n",
      "       u'Your Friends and Neighbors (1998)', u'Zachariah (1971)',\n",
      "       u'Zed & Two Noughts, A (1985)', u'Zero Effect (1998)',\n",
      "       u'Zero Kelvin (Kj�rlighetens kj�tere) (1995)',\n",
      "       u'Zeus and Roxanne (1997)', u'eXistenZ (1999)'],\n",
      "      dtype='object', name=u'title', length=3706)\n"
     ]
    }
   ],
   "source": [
    "ratings_mtx_df = MovieLens.pivot_table(values='rating', index='user_id', columns='title', fill_value=0)\n",
    "print ratings_mtx_df.head()\n",
    "print ratings_mtx_df.shape\n",
    "movie_index = ratings_mtx_df.columns\n",
    "print movie_index"
   ]
  },
  {
   "cell_type": "code",
   "execution_count": 79,
   "metadata": {
    "collapsed": false
   },
   "outputs": [
    {
     "name": "stdout",
     "output_type": "stream",
     "text": [
      "(6040, 3706)\n",
      "(3706, 6040)\n",
      "(3706, 10)\n"
     ]
    }
   ],
   "source": [
    "from sklearn.decomposition import TruncatedSVD\n",
    "recom = TruncatedSVD(n_components=10, random_state=101)\n",
    "print ratings_mtx_df.values.shape\n",
    "print ratings_mtx_df.values.T.shape\n",
    "R = recom.fit_transform(ratings_mtx_df.values.T)\n",
    "print R.shape"
   ]
  },
  {
   "cell_type": "markdown",
   "metadata": {},
   "source": [
    "The TruncatedSVD class reduces the data table to ten components. This\n",
    "class offers a more scalable algorithm than SciPy’s linalg.svd used in earlier\n",
    "examples. TruncatedSVD computes result matrices of exactly the shape\n",
    "you decide by the n_components parameter (the full resulting matrices are\n",
    "not calculated), resulting in a faster output and less memory usage.\n",
    "By calculating the Vh matrix, you can reduce the ratings of different but similar\n",
    "users (each user’s scores are expressed by row) into compressed dimensions\n",
    "that reconstruct general tastes and preferences. Please also notice that\n",
    "because you’re interested in the Vh matrix (the columns/movies reduction)\n",
    "but the algorithm provides you with only the U matrix (the decomposition\n",
    "based on rows), you need to input the transposition of the data table"
   ]
  },
  {
   "cell_type": "markdown",
   "metadata": {},
   "source": [
    "Using the movie label (in such cases, you look for suggestions based on preference\n",
    "for a Star Wars episode), you can find out what column the movie is in\n",
    "(column index 3154 in this case) and print the values of the 10 components.\n",
    "This sequence provides the movie profile."
   ]
  },
  {
   "cell_type": "code",
   "execution_count": 80,
   "metadata": {
    "collapsed": false
   },
   "outputs": [
    {
     "name": "stdout",
     "output_type": "stream",
     "text": [
      "3154\n",
      "[ 184.72254552  -17.7761415    47.33483561  -51.46669814  -47.9152707\n",
      "  -17.6500095   -14.34294202  -12.88678015  -17.48586355   -5.3837019 ]\n"
     ]
    }
   ],
   "source": [
    "# 1196::Star Wars: Episode V - The Empire Strikes Back (1980)::Action|Adventure|Drama|Sci-Fi|War\n",
    "star_wars_idx = list(movie_index).index('Star Wars: Episode V - The Empire Strikes Back (1980)')\n",
    "print star_wars_idx\n",
    "print R[star_wars_idx]"
   ]
  },
  {
   "cell_type": "markdown",
   "metadata": {},
   "source": [
    "You could try to interpret it, but\n",
    "the focus is on other movies that are similar based on the users’ ratings.\n",
    "These movies have similar scores to the target movie and therefore are highly correlated with it. A good strategy is to calculate a correlation matrix\n",
    "of all movies, get the slice related to your movie, and find out inside it what\n",
    "are the most related (characterized by high positive correlation — say at\n",
    "least 0.98) movie titles using indexing as shown in the following code."
   ]
  },
  {
   "cell_type": "code",
   "execution_count": 81,
   "metadata": {
    "collapsed": false
   },
   "outputs": [
    {
     "name": "stdout",
     "output_type": "stream",
     "text": [
      "['Raiders of the Lost Ark (1981)', 'Star Wars: Episode IV - A New Hope (1977)', 'Star Wars: Episode VI - Return of the Jedi (1983)']\n"
     ]
    }
   ],
   "source": [
    "import numpy as np\n",
    "correlation_matrix = np.corrcoef(R)\n",
    "P = correlation_matrix[star_wars_idx]\n",
    "print list(movie_index[(P > 0.98) & (P < 1.0)])"
   ]
  }
 ],
 "metadata": {
  "kernelspec": {
   "display_name": "Python 2",
   "language": "python",
   "name": "python2"
  },
  "language_info": {
   "codemirror_mode": {
    "name": "ipython",
    "version": 2
   },
   "file_extension": ".py",
   "mimetype": "text/x-python",
   "name": "python",
   "nbconvert_exporter": "python",
   "pygments_lexer": "ipython2",
   "version": "2.7.10"
  }
 },
 "nbformat": 4,
 "nbformat_minor": 0
}
